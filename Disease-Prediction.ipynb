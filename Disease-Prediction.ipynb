{
 "cells": [
  {
   "cell_type": "code",
   "execution_count": 105,
   "metadata": {},
   "outputs": [],
   "source": [
    "import pandas as pd\n",
    "import seaborn as cbs\n",
    "import tensorflow as tf\n",
    "import numpy as np\n",
    "import matplotlib.pyplot as plt\n",
    "import sklearn as sk\n",
    "%matplotlib inline"
   ]
  },
  {
   "cell_type": "markdown",
   "metadata": {},
   "source": [
    "Gathering the data"
   ]
  },
  {
   "cell_type": "code",
   "execution_count": 106,
   "metadata": {},
   "outputs": [],
   "source": [
    "data_dia=pd.read_csv(\"diabetes.csv\")\n",
    "data_liver=pd.read_csv(\"Indian Liver Patient Dataset (ILPD).csv\",names=[\"Age\",\"Gender\",\"TB\",\"DB\",\"Alkphos\",\"Sgpt\",\"Sgot\",\"TP\",\"ALB\",\"A/G Ratio\",\"Outcome\"])\n",
    "data_breast=pd.read_csv(\"breast-cancer-wisconsin.data.csv\",names=[\"id\", \"Clump Thickness\",\"Uniformity of Cell Size\",\"Uniformity of Cell Shape\",\"Marginal Adhesion\",\"Single Epithelial Cell Size\",\"Bare Nuclei\",\"Bland Chromatin\",\"Normal Nucleoli\",\"Mitoses\",\"Outcome\"])\n",
    "\n"
   ]
  },
  {
   "cell_type": "code",
   "execution_count": 107,
   "metadata": {},
   "outputs": [
    {
     "data": {
      "text/html": [
       "<div>\n",
       "<style scoped>\n",
       "    .dataframe tbody tr th:only-of-type {\n",
       "        vertical-align: middle;\n",
       "    }\n",
       "\n",
       "    .dataframe tbody tr th {\n",
       "        vertical-align: top;\n",
       "    }\n",
       "\n",
       "    .dataframe thead th {\n",
       "        text-align: right;\n",
       "    }\n",
       "</style>\n",
       "<table border=\"1\" class=\"dataframe\">\n",
       "  <thead>\n",
       "    <tr style=\"text-align: right;\">\n",
       "      <th></th>\n",
       "      <th>Pregnancies</th>\n",
       "      <th>Glucose</th>\n",
       "      <th>BloodPressure</th>\n",
       "      <th>SkinThickness</th>\n",
       "      <th>Insulin</th>\n",
       "      <th>BMI</th>\n",
       "      <th>DiabetesPedigreeFunction</th>\n",
       "      <th>Age</th>\n",
       "      <th>Outcome</th>\n",
       "    </tr>\n",
       "  </thead>\n",
       "  <tbody>\n",
       "    <tr>\n",
       "      <th>0</th>\n",
       "      <td>6</td>\n",
       "      <td>148</td>\n",
       "      <td>72</td>\n",
       "      <td>35</td>\n",
       "      <td>0</td>\n",
       "      <td>33.6</td>\n",
       "      <td>0.627</td>\n",
       "      <td>50</td>\n",
       "      <td>1</td>\n",
       "    </tr>\n",
       "    <tr>\n",
       "      <th>1</th>\n",
       "      <td>1</td>\n",
       "      <td>85</td>\n",
       "      <td>66</td>\n",
       "      <td>29</td>\n",
       "      <td>0</td>\n",
       "      <td>26.6</td>\n",
       "      <td>0.351</td>\n",
       "      <td>31</td>\n",
       "      <td>0</td>\n",
       "    </tr>\n",
       "    <tr>\n",
       "      <th>2</th>\n",
       "      <td>8</td>\n",
       "      <td>183</td>\n",
       "      <td>64</td>\n",
       "      <td>0</td>\n",
       "      <td>0</td>\n",
       "      <td>23.3</td>\n",
       "      <td>0.672</td>\n",
       "      <td>32</td>\n",
       "      <td>1</td>\n",
       "    </tr>\n",
       "    <tr>\n",
       "      <th>3</th>\n",
       "      <td>1</td>\n",
       "      <td>89</td>\n",
       "      <td>66</td>\n",
       "      <td>23</td>\n",
       "      <td>94</td>\n",
       "      <td>28.1</td>\n",
       "      <td>0.167</td>\n",
       "      <td>21</td>\n",
       "      <td>0</td>\n",
       "    </tr>\n",
       "    <tr>\n",
       "      <th>4</th>\n",
       "      <td>0</td>\n",
       "      <td>137</td>\n",
       "      <td>40</td>\n",
       "      <td>35</td>\n",
       "      <td>168</td>\n",
       "      <td>43.1</td>\n",
       "      <td>2.288</td>\n",
       "      <td>33</td>\n",
       "      <td>1</td>\n",
       "    </tr>\n",
       "  </tbody>\n",
       "</table>\n",
       "</div>"
      ],
      "text/plain": [
       "   Pregnancies  Glucose  BloodPressure  SkinThickness  Insulin   BMI  \\\n",
       "0            6      148             72             35        0  33.6   \n",
       "1            1       85             66             29        0  26.6   \n",
       "2            8      183             64              0        0  23.3   \n",
       "3            1       89             66             23       94  28.1   \n",
       "4            0      137             40             35      168  43.1   \n",
       "\n",
       "   DiabetesPedigreeFunction  Age  Outcome  \n",
       "0                     0.627   50        1  \n",
       "1                     0.351   31        0  \n",
       "2                     0.672   32        1  \n",
       "3                     0.167   21        0  \n",
       "4                     2.288   33        1  "
      ]
     },
     "execution_count": 107,
     "metadata": {},
     "output_type": "execute_result"
    }
   ],
   "source": [
    "data_dia.head()"
   ]
  },
  {
   "cell_type": "code",
   "execution_count": 108,
   "metadata": {},
   "outputs": [
    {
     "data": {
      "text/html": [
       "<div>\n",
       "<style scoped>\n",
       "    .dataframe tbody tr th:only-of-type {\n",
       "        vertical-align: middle;\n",
       "    }\n",
       "\n",
       "    .dataframe tbody tr th {\n",
       "        vertical-align: top;\n",
       "    }\n",
       "\n",
       "    .dataframe thead th {\n",
       "        text-align: right;\n",
       "    }\n",
       "</style>\n",
       "<table border=\"1\" class=\"dataframe\">\n",
       "  <thead>\n",
       "    <tr style=\"text-align: right;\">\n",
       "      <th></th>\n",
       "      <th>Age</th>\n",
       "      <th>Gender</th>\n",
       "      <th>TB</th>\n",
       "      <th>DB</th>\n",
       "      <th>Alkphos</th>\n",
       "      <th>Sgpt</th>\n",
       "      <th>Sgot</th>\n",
       "      <th>TP</th>\n",
       "      <th>ALB</th>\n",
       "      <th>A/G Ratio</th>\n",
       "      <th>Outcome</th>\n",
       "    </tr>\n",
       "  </thead>\n",
       "  <tbody>\n",
       "    <tr>\n",
       "      <th>0</th>\n",
       "      <td>65</td>\n",
       "      <td>Female</td>\n",
       "      <td>0.7</td>\n",
       "      <td>0.1</td>\n",
       "      <td>187</td>\n",
       "      <td>16</td>\n",
       "      <td>18</td>\n",
       "      <td>6.8</td>\n",
       "      <td>3.3</td>\n",
       "      <td>0.90</td>\n",
       "      <td>1</td>\n",
       "    </tr>\n",
       "    <tr>\n",
       "      <th>1</th>\n",
       "      <td>62</td>\n",
       "      <td>Male</td>\n",
       "      <td>10.9</td>\n",
       "      <td>5.5</td>\n",
       "      <td>699</td>\n",
       "      <td>64</td>\n",
       "      <td>100</td>\n",
       "      <td>7.5</td>\n",
       "      <td>3.2</td>\n",
       "      <td>0.74</td>\n",
       "      <td>1</td>\n",
       "    </tr>\n",
       "    <tr>\n",
       "      <th>2</th>\n",
       "      <td>62</td>\n",
       "      <td>Male</td>\n",
       "      <td>7.3</td>\n",
       "      <td>4.1</td>\n",
       "      <td>490</td>\n",
       "      <td>60</td>\n",
       "      <td>68</td>\n",
       "      <td>7.0</td>\n",
       "      <td>3.3</td>\n",
       "      <td>0.89</td>\n",
       "      <td>1</td>\n",
       "    </tr>\n",
       "    <tr>\n",
       "      <th>3</th>\n",
       "      <td>58</td>\n",
       "      <td>Male</td>\n",
       "      <td>1.0</td>\n",
       "      <td>0.4</td>\n",
       "      <td>182</td>\n",
       "      <td>14</td>\n",
       "      <td>20</td>\n",
       "      <td>6.8</td>\n",
       "      <td>3.4</td>\n",
       "      <td>1.00</td>\n",
       "      <td>1</td>\n",
       "    </tr>\n",
       "    <tr>\n",
       "      <th>4</th>\n",
       "      <td>72</td>\n",
       "      <td>Male</td>\n",
       "      <td>3.9</td>\n",
       "      <td>2.0</td>\n",
       "      <td>195</td>\n",
       "      <td>27</td>\n",
       "      <td>59</td>\n",
       "      <td>7.3</td>\n",
       "      <td>2.4</td>\n",
       "      <td>0.40</td>\n",
       "      <td>1</td>\n",
       "    </tr>\n",
       "  </tbody>\n",
       "</table>\n",
       "</div>"
      ],
      "text/plain": [
       "   Age  Gender    TB   DB  Alkphos  Sgpt  Sgot   TP  ALB  A/G Ratio  Outcome\n",
       "0   65  Female   0.7  0.1      187    16    18  6.8  3.3       0.90        1\n",
       "1   62    Male  10.9  5.5      699    64   100  7.5  3.2       0.74        1\n",
       "2   62    Male   7.3  4.1      490    60    68  7.0  3.3       0.89        1\n",
       "3   58    Male   1.0  0.4      182    14    20  6.8  3.4       1.00        1\n",
       "4   72    Male   3.9  2.0      195    27    59  7.3  2.4       0.40        1"
      ]
     },
     "execution_count": 108,
     "metadata": {},
     "output_type": "execute_result"
    }
   ],
   "source": [
    "data_liver.head()"
   ]
  },
  {
   "cell_type": "code",
   "execution_count": 109,
   "metadata": {},
   "outputs": [
    {
     "data": {
      "text/html": [
       "<div>\n",
       "<style scoped>\n",
       "    .dataframe tbody tr th:only-of-type {\n",
       "        vertical-align: middle;\n",
       "    }\n",
       "\n",
       "    .dataframe tbody tr th {\n",
       "        vertical-align: top;\n",
       "    }\n",
       "\n",
       "    .dataframe thead th {\n",
       "        text-align: right;\n",
       "    }\n",
       "</style>\n",
       "<table border=\"1\" class=\"dataframe\">\n",
       "  <thead>\n",
       "    <tr style=\"text-align: right;\">\n",
       "      <th></th>\n",
       "      <th>id</th>\n",
       "      <th>Clump Thickness</th>\n",
       "      <th>Uniformity of Cell Size</th>\n",
       "      <th>Uniformity of Cell Shape</th>\n",
       "      <th>Marginal Adhesion</th>\n",
       "      <th>Single Epithelial Cell Size</th>\n",
       "      <th>Bare Nuclei</th>\n",
       "      <th>Bland Chromatin</th>\n",
       "      <th>Normal Nucleoli</th>\n",
       "      <th>Mitoses</th>\n",
       "      <th>Outcome</th>\n",
       "    </tr>\n",
       "  </thead>\n",
       "  <tbody>\n",
       "    <tr>\n",
       "      <th>0</th>\n",
       "      <td>1000025</td>\n",
       "      <td>5</td>\n",
       "      <td>1</td>\n",
       "      <td>1</td>\n",
       "      <td>1</td>\n",
       "      <td>2</td>\n",
       "      <td>1</td>\n",
       "      <td>3</td>\n",
       "      <td>1</td>\n",
       "      <td>1</td>\n",
       "      <td>2</td>\n",
       "    </tr>\n",
       "    <tr>\n",
       "      <th>1</th>\n",
       "      <td>1002945</td>\n",
       "      <td>5</td>\n",
       "      <td>4</td>\n",
       "      <td>4</td>\n",
       "      <td>5</td>\n",
       "      <td>7</td>\n",
       "      <td>10</td>\n",
       "      <td>3</td>\n",
       "      <td>2</td>\n",
       "      <td>1</td>\n",
       "      <td>2</td>\n",
       "    </tr>\n",
       "    <tr>\n",
       "      <th>2</th>\n",
       "      <td>1015425</td>\n",
       "      <td>3</td>\n",
       "      <td>1</td>\n",
       "      <td>1</td>\n",
       "      <td>1</td>\n",
       "      <td>2</td>\n",
       "      <td>2</td>\n",
       "      <td>3</td>\n",
       "      <td>1</td>\n",
       "      <td>1</td>\n",
       "      <td>2</td>\n",
       "    </tr>\n",
       "    <tr>\n",
       "      <th>3</th>\n",
       "      <td>1016277</td>\n",
       "      <td>6</td>\n",
       "      <td>8</td>\n",
       "      <td>8</td>\n",
       "      <td>1</td>\n",
       "      <td>3</td>\n",
       "      <td>4</td>\n",
       "      <td>3</td>\n",
       "      <td>7</td>\n",
       "      <td>1</td>\n",
       "      <td>2</td>\n",
       "    </tr>\n",
       "    <tr>\n",
       "      <th>4</th>\n",
       "      <td>1017023</td>\n",
       "      <td>4</td>\n",
       "      <td>1</td>\n",
       "      <td>1</td>\n",
       "      <td>3</td>\n",
       "      <td>2</td>\n",
       "      <td>1</td>\n",
       "      <td>3</td>\n",
       "      <td>1</td>\n",
       "      <td>1</td>\n",
       "      <td>2</td>\n",
       "    </tr>\n",
       "  </tbody>\n",
       "</table>\n",
       "</div>"
      ],
      "text/plain": [
       "        id  Clump Thickness  Uniformity of Cell Size  \\\n",
       "0  1000025                5                        1   \n",
       "1  1002945                5                        4   \n",
       "2  1015425                3                        1   \n",
       "3  1016277                6                        8   \n",
       "4  1017023                4                        1   \n",
       "\n",
       "   Uniformity of Cell Shape  Marginal Adhesion  Single Epithelial Cell Size  \\\n",
       "0                         1                  1                            2   \n",
       "1                         4                  5                            7   \n",
       "2                         1                  1                            2   \n",
       "3                         8                  1                            3   \n",
       "4                         1                  3                            2   \n",
       "\n",
       "  Bare Nuclei  Bland Chromatin  Normal Nucleoli  Mitoses  Outcome  \n",
       "0           1                3                1        1        2  \n",
       "1          10                3                2        1        2  \n",
       "2           2                3                1        1        2  \n",
       "3           4                3                7        1        2  \n",
       "4           1                3                1        1        2  "
      ]
     },
     "execution_count": 109,
     "metadata": {},
     "output_type": "execute_result"
    }
   ],
   "source": [
    "data_breast.head()"
   ]
  },
  {
   "cell_type": "markdown",
   "metadata": {},
   "source": [
    "__Preprocessing to Be done:__<br>\n",
    "Drop Useless columns such as ID<br>\n",
    "Convert Outcome of three Datasets to something similar<br>\n",
    "Drop or Convert Null values<br>\n",
    "Encode Values<br>\n",
    "Convert datatype to a usable one(eg. String to Integer)\n"
   ]
  },
  {
   "cell_type": "code",
   "execution_count": 110,
   "metadata": {},
   "outputs": [],
   "source": [
    "data_breast=data_breast.drop(\"id\",axis=1)"
   ]
  },
  {
   "cell_type": "code",
   "execution_count": 111,
   "metadata": {},
   "outputs": [
    {
     "name": "stderr",
     "output_type": "stream",
     "text": [
      "C:\\Users\\rollaball\\Miniconda3\\lib\\site-packages\\ipykernel_launcher.py:4: SettingWithCopyWarning: \n",
      "A value is trying to be set on a copy of a slice from a DataFrame\n",
      "\n",
      "See the caveats in the documentation: http://pandas.pydata.org/pandas-docs/stable/indexing.html#indexing-view-versus-copy\n",
      "  after removing the cwd from sys.path.\n",
      "C:\\Users\\rollaball\\Miniconda3\\lib\\site-packages\\ipykernel_launcher.py:6: SettingWithCopyWarning: \n",
      "A value is trying to be set on a copy of a slice from a DataFrame\n",
      "\n",
      "See the caveats in the documentation: http://pandas.pydata.org/pandas-docs/stable/indexing.html#indexing-view-versus-copy\n",
      "  \n"
     ]
    }
   ],
   "source": [
    "data_breast[\"Outcome\"]=(data_breast[\"Outcome\"]-2)/2\n",
    "for i in range(data_liver[\"Outcome\"].size):\n",
    "    if(data_liver[\"Outcome\"][i]==1):\n",
    "        data_liver[\"Outcome\"][i]=1\n",
    "    else:\n",
    "        data_liver[\"Outcome\"][i]=0"
   ]
  },
  {
   "cell_type": "code",
   "execution_count": 112,
   "metadata": {},
   "outputs": [
    {
     "name": "stdout",
     "output_type": "stream",
     "text": [
      "     Age  Gender   TB   DB  Alkphos  Sgpt  Sgot   TP  ALB  A/G Ratio  Outcome\n",
      "209   45  Female  0.9  0.3      189    23    33  6.6  3.9        NaN        1\n",
      "241   51    Male  0.8  0.2      230    24    46  6.5  3.1        NaN        1\n",
      "253   35  Female  0.6  0.2      180    12    15  5.2  2.7        NaN        0\n",
      "312   27    Male  1.3  0.6      106    25    54  8.5  4.8        NaN        0\n"
     ]
    }
   ],
   "source": [
    "print(data_liver[data_liver.isnull().any(axis=1)])\n",
    "data_liver=data_liver.dropna(axis=0, how='any')"
   ]
  },
  {
   "cell_type": "code",
   "execution_count": 113,
   "metadata": {},
   "outputs": [],
   "source": [
    "from sklearn.preprocessing import LabelEncoder\n",
    "enc=LabelEncoder()\n",
    "data_liver[\"Gender\"]=enc.fit_transform(data_liver[\"Gender\"])"
   ]
  },
  {
   "cell_type": "code",
   "execution_count": 114,
   "metadata": {
    "scrolled": true
   },
   "outputs": [
    {
     "name": "stdout",
     "output_type": "stream",
     "text": [
      "['1' '10' '2' '4' '3' '9' '7' '?' '5' '8' '6']\n"
     ]
    },
    {
     "data": {
      "text/html": [
       "<div>\n",
       "<style scoped>\n",
       "    .dataframe tbody tr th:only-of-type {\n",
       "        vertical-align: middle;\n",
       "    }\n",
       "\n",
       "    .dataframe tbody tr th {\n",
       "        vertical-align: top;\n",
       "    }\n",
       "\n",
       "    .dataframe thead th {\n",
       "        text-align: right;\n",
       "    }\n",
       "</style>\n",
       "<table border=\"1\" class=\"dataframe\">\n",
       "  <thead>\n",
       "    <tr style=\"text-align: right;\">\n",
       "      <th></th>\n",
       "      <th>Clump Thickness</th>\n",
       "      <th>Uniformity of Cell Size</th>\n",
       "      <th>Uniformity of Cell Shape</th>\n",
       "      <th>Marginal Adhesion</th>\n",
       "      <th>Single Epithelial Cell Size</th>\n",
       "      <th>Bland Chromatin</th>\n",
       "      <th>Normal Nucleoli</th>\n",
       "      <th>Mitoses</th>\n",
       "      <th>Outcome</th>\n",
       "    </tr>\n",
       "    <tr>\n",
       "      <th>Bare Nuclei</th>\n",
       "      <th></th>\n",
       "      <th></th>\n",
       "      <th></th>\n",
       "      <th></th>\n",
       "      <th></th>\n",
       "      <th></th>\n",
       "      <th></th>\n",
       "      <th></th>\n",
       "      <th></th>\n",
       "    </tr>\n",
       "  </thead>\n",
       "  <tbody>\n",
       "    <tr>\n",
       "      <th>1</th>\n",
       "      <td>402</td>\n",
       "      <td>402</td>\n",
       "      <td>402</td>\n",
       "      <td>402</td>\n",
       "      <td>402</td>\n",
       "      <td>402</td>\n",
       "      <td>402</td>\n",
       "      <td>402</td>\n",
       "      <td>402</td>\n",
       "    </tr>\n",
       "    <tr>\n",
       "      <th>10</th>\n",
       "      <td>132</td>\n",
       "      <td>132</td>\n",
       "      <td>132</td>\n",
       "      <td>132</td>\n",
       "      <td>132</td>\n",
       "      <td>132</td>\n",
       "      <td>132</td>\n",
       "      <td>132</td>\n",
       "      <td>132</td>\n",
       "    </tr>\n",
       "    <tr>\n",
       "      <th>2</th>\n",
       "      <td>30</td>\n",
       "      <td>30</td>\n",
       "      <td>30</td>\n",
       "      <td>30</td>\n",
       "      <td>30</td>\n",
       "      <td>30</td>\n",
       "      <td>30</td>\n",
       "      <td>30</td>\n",
       "      <td>30</td>\n",
       "    </tr>\n",
       "    <tr>\n",
       "      <th>3</th>\n",
       "      <td>28</td>\n",
       "      <td>28</td>\n",
       "      <td>28</td>\n",
       "      <td>28</td>\n",
       "      <td>28</td>\n",
       "      <td>28</td>\n",
       "      <td>28</td>\n",
       "      <td>28</td>\n",
       "      <td>28</td>\n",
       "    </tr>\n",
       "    <tr>\n",
       "      <th>4</th>\n",
       "      <td>19</td>\n",
       "      <td>19</td>\n",
       "      <td>19</td>\n",
       "      <td>19</td>\n",
       "      <td>19</td>\n",
       "      <td>19</td>\n",
       "      <td>19</td>\n",
       "      <td>19</td>\n",
       "      <td>19</td>\n",
       "    </tr>\n",
       "    <tr>\n",
       "      <th>5</th>\n",
       "      <td>30</td>\n",
       "      <td>30</td>\n",
       "      <td>30</td>\n",
       "      <td>30</td>\n",
       "      <td>30</td>\n",
       "      <td>30</td>\n",
       "      <td>30</td>\n",
       "      <td>30</td>\n",
       "      <td>30</td>\n",
       "    </tr>\n",
       "    <tr>\n",
       "      <th>6</th>\n",
       "      <td>4</td>\n",
       "      <td>4</td>\n",
       "      <td>4</td>\n",
       "      <td>4</td>\n",
       "      <td>4</td>\n",
       "      <td>4</td>\n",
       "      <td>4</td>\n",
       "      <td>4</td>\n",
       "      <td>4</td>\n",
       "    </tr>\n",
       "    <tr>\n",
       "      <th>7</th>\n",
       "      <td>8</td>\n",
       "      <td>8</td>\n",
       "      <td>8</td>\n",
       "      <td>8</td>\n",
       "      <td>8</td>\n",
       "      <td>8</td>\n",
       "      <td>8</td>\n",
       "      <td>8</td>\n",
       "      <td>8</td>\n",
       "    </tr>\n",
       "    <tr>\n",
       "      <th>8</th>\n",
       "      <td>21</td>\n",
       "      <td>21</td>\n",
       "      <td>21</td>\n",
       "      <td>21</td>\n",
       "      <td>21</td>\n",
       "      <td>21</td>\n",
       "      <td>21</td>\n",
       "      <td>21</td>\n",
       "      <td>21</td>\n",
       "    </tr>\n",
       "    <tr>\n",
       "      <th>9</th>\n",
       "      <td>9</td>\n",
       "      <td>9</td>\n",
       "      <td>9</td>\n",
       "      <td>9</td>\n",
       "      <td>9</td>\n",
       "      <td>9</td>\n",
       "      <td>9</td>\n",
       "      <td>9</td>\n",
       "      <td>9</td>\n",
       "    </tr>\n",
       "    <tr>\n",
       "      <th>?</th>\n",
       "      <td>16</td>\n",
       "      <td>16</td>\n",
       "      <td>16</td>\n",
       "      <td>16</td>\n",
       "      <td>16</td>\n",
       "      <td>16</td>\n",
       "      <td>16</td>\n",
       "      <td>16</td>\n",
       "      <td>16</td>\n",
       "    </tr>\n",
       "  </tbody>\n",
       "</table>\n",
       "</div>"
      ],
      "text/plain": [
       "             Clump Thickness  Uniformity of Cell Size  \\\n",
       "Bare Nuclei                                             \n",
       "1                        402                      402   \n",
       "10                       132                      132   \n",
       "2                         30                       30   \n",
       "3                         28                       28   \n",
       "4                         19                       19   \n",
       "5                         30                       30   \n",
       "6                          4                        4   \n",
       "7                          8                        8   \n",
       "8                         21                       21   \n",
       "9                          9                        9   \n",
       "?                         16                       16   \n",
       "\n",
       "             Uniformity of Cell Shape  Marginal Adhesion  \\\n",
       "Bare Nuclei                                                \n",
       "1                                 402                402   \n",
       "10                                132                132   \n",
       "2                                  30                 30   \n",
       "3                                  28                 28   \n",
       "4                                  19                 19   \n",
       "5                                  30                 30   \n",
       "6                                   4                  4   \n",
       "7                                   8                  8   \n",
       "8                                  21                 21   \n",
       "9                                   9                  9   \n",
       "?                                  16                 16   \n",
       "\n",
       "             Single Epithelial Cell Size  Bland Chromatin  Normal Nucleoli  \\\n",
       "Bare Nuclei                                                                  \n",
       "1                                    402              402              402   \n",
       "10                                   132              132              132   \n",
       "2                                     30               30               30   \n",
       "3                                     28               28               28   \n",
       "4                                     19               19               19   \n",
       "5                                     30               30               30   \n",
       "6                                      4                4                4   \n",
       "7                                      8                8                8   \n",
       "8                                     21               21               21   \n",
       "9                                      9                9                9   \n",
       "?                                     16               16               16   \n",
       "\n",
       "             Mitoses  Outcome  \n",
       "Bare Nuclei                    \n",
       "1                402      402  \n",
       "10               132      132  \n",
       "2                 30       30  \n",
       "3                 28       28  \n",
       "4                 19       19  \n",
       "5                 30       30  \n",
       "6                  4        4  \n",
       "7                  8        8  \n",
       "8                 21       21  \n",
       "9                  9        9  \n",
       "?                 16       16  "
      ]
     },
     "execution_count": 114,
     "metadata": {},
     "output_type": "execute_result"
    }
   ],
   "source": [
    "print(data_breast[\"Bare Nuclei\"].unique())\n",
    "data_breast.groupby(\"Bare Nuclei\").count()"
   ]
  },
  {
   "cell_type": "code",
   "execution_count": 115,
   "metadata": {},
   "outputs": [],
   "source": [
    "data_breast=data_breast[data_breast[\"Bare Nuclei\"]!=\"?\"]\n",
    "data_breast[\"Bare Nuclei\"]=pd.to_numeric(data_breast[\"Bare Nuclei\"])"
   ]
  },
  {
   "cell_type": "code",
   "execution_count": 116,
   "metadata": {},
   "outputs": [],
   "source": [
    "liver_y=np.array(data_liver.Outcome)\n",
    "diabetes_y=np.array(data_dia.Outcome)\n",
    "breast_y=np.array(data_breast.Outcome)\n",
    "\n",
    "data_liver=data_liver.drop(\"Outcome\",axis=1)\n",
    "data_dia=data_dia.drop(\"Outcome\",axis=1)\n",
    "data_breast=data_breast.drop(\"Outcome\",axis=1)\n",
    "\n",
    "data=[data_liver,data_dia,data_breast]\n",
    "target=[liver_y,diabetes_y,breast_y]"
   ]
  },
  {
   "cell_type": "markdown",
   "metadata": {},
   "source": [
    "__Using PCA for Dimensionality Reduction__"
   ]
  },
  {
   "cell_type": "code",
   "execution_count": 117,
   "metadata": {},
   "outputs": [],
   "source": [
    "from sklearn.decomposition import PCA\n",
    "pca=PCA(n_components=2)\n",
    "def plot_pca(x,target):\n",
    "    pca_data=pca.fit_transform(x)\n",
    "    for i in range(target.size):\n",
    "        if target[i]==0:\n",
    "            plt.plot(pca_data[i,0],pca_data[i,1],'bo')\n",
    "        else:\n",
    "            plt.plot(pca_data[i,0],pca_data[i,1],'ro')\n",
    "    plt.show()"
   ]
  },
  {
   "cell_type": "code",
   "execution_count": 118,
   "metadata": {},
   "outputs": [
    {
     "data": {
      "image/png": "[encoded data removed]",
      "text/plain": [
       "<matplotlib.figure.Figure at 0x1dad0c22f60>"
      ]
     },
     "metadata": {},
     "output_type": "display_data"
    },
    {
     "data": {
      "image/png": "[encoded data removed]",
      "text/plain": [
       "<matplotlib.figure.Figure at 0x1daf1198320>"
      ]
     },
     "metadata": {},
     "output_type": "display_data"
    },
    {
     "data": {
      "image/png": "[encoded data removed]",
      "text/plain": [
       "<matplotlib.figure.Figure at 0x1dad0c22f28>"
      ]
     },
     "metadata": {},
     "output_type": "display_data"
    }
   ],
   "source": [
    "for i in range(3):\n",
    "    plot_pca(data[i],target[i])"
   ]
  },
  {
   "cell_type": "markdown",
   "metadata": {},
   "source": [
    "<br><br>__Creating the Model__<br>\n",
    "We will be comparing multiple models here to check which gives us the highest accuracy"
   ]
  },
  {
   "cell_type": "code",
   "execution_count": 98,
   "metadata": {},
   "outputs": [],
   "source": [
    "from sklearn.model_selection import train_test_split\n",
    "from sklearn.neural_network import MLPClassifier\n",
    "from sklearn.neighbors import KNeighborsClassifier\n",
    "from sklearn.svm import SVC\n",
    "from sklearn.gaussian_process.kernels import RBF\n",
    "from sklearn.tree import DecisionTreeClassifier\n",
    "from sklearn.ensemble import RandomForestClassifier, AdaBoostClassifier\n",
    "from sklearn.naive_bayes import GaussianNB\n",
    "from sklearn.metrics import accuracy_score\n",
    "from sklearn.linear_model import LogisticRegression\n",
    "from sklearn.metrics import confusion_matrix\n",
    "names = [\"Nearest Neighbors\",\"Logistic Regression\", \"Linear SVM\", \"RBF SVM\",\n",
    "         \"Decision Tree\", \"Random Forest\", \"Neural Net\", \"AdaBoost\",\n",
    "         \"Naive Bayes\"]\n",
    "data_names=[\"Liver Disorder\",\"Diabetes\",\"Breast Cancer\"]\n",
    "classifiers = [\n",
    "    KNeighborsClassifier(10),\n",
    "    LogisticRegression(),\n",
    "    SVC(kernel=\"linear\"),\n",
    "    SVC(kernel=\"rbf\"),                     \n",
    "    DecisionTreeClassifier(),\n",
    "    RandomForestClassifier(max_depth=5, n_estimators=10, max_features=1),\n",
    "    MLPClassifier(),\n",
    "    AdaBoostClassifier(),\n",
    "    GaussianNB()\n",
    "    ]"
   ]
  },
  {
   "cell_type": "code",
   "execution_count": null,
   "metadata": {},
   "outputs": [],
   "source": []
  },
  {
   "cell_type": "code",
   "execution_count": 99,
   "metadata": {},
   "outputs": [
    {
     "name": "stdout",
     "output_type": "stream",
     "text": [
      "Liver Disorder\n",
      "For  Nearest Neighbors  accuracy is  0.6275862068965518 TPR= 0.8064516129032258 SPC 0.6756756756756757\n",
      "For  Logistic Regression  accuracy is  0.6344827586206897 TPR= 0.978494623655914 SPC 0.6408450704225352\n",
      "For  Linear SVM  accuracy is  0.6413793103448275 TPR= 1.0 SPC 0.6413793103448275\n",
      "For  RBF SVM  accuracy is  0.6482758620689655 TPR= 1.0 SPC 0.6458333333333334\n",
      "For  Decision Tree  accuracy is  0.6620689655172414 TPR= 0.8387096774193549 SPC 0.6964285714285714\n",
      "For  Random Forest  accuracy is  0.6344827586206897 TPR= 0.9354838709677419 SPC 0.6492537313432836\n",
      "For  Neural Net  accuracy is  0.6413793103448275 TPR= 1.0 SPC 0.6413793103448275\n",
      "For  AdaBoost  accuracy is  0.6620689655172414 TPR= 0.8279569892473119 SPC 0.7\n",
      "For  Naive Bayes  accuracy is  0.6 TPR= 0.3978494623655914 SPC 0.9487179487179487\n",
      "Diabetes\n",
      "For  Nearest Neighbors  accuracy is  0.71875 TPR= 0.5072463768115942 SPC 0.6363636363636364\n",
      "For  Logistic Regression  accuracy is  0.7447916666666666 TPR= 0.6231884057971014 SPC 0.6515151515151515\n",
      "For  Linear SVM  accuracy is  0.7291666666666666 TPR= 0.6376811594202898 SPC 0.6197183098591549\n",
      "For  RBF SVM  accuracy is  0.640625 TPR= 0.0 SPC nan\n",
      "For  Decision Tree  accuracy is  0.6927083333333334 TPR= 0.6666666666666666 SPC 0.5609756097560976\n",
      "For  Random Forest  accuracy is  0.7135416666666666 TPR= 0.5507246376811594 SPC 0.6129032258064516\n"
     ]
    },
    {
     "name": "stderr",
     "output_type": "stream",
     "text": [
      "C:\\Users\\rollaball\\Miniconda3\\lib\\site-packages\\ipykernel_launcher.py:10: RuntimeWarning: invalid value encountered in longlong_scalars\n",
      "  # Remove the CWD from sys.path while we load stuff.\n"
     ]
    },
    {
     "name": "stdout",
     "output_type": "stream",
     "text": [
      "For  Neural Net  accuracy is  0.671875 TPR= 0.42028985507246375 SPC 0.5576923076923077\n",
      "For  AdaBoost  accuracy is  0.7239583333333334 TPR= 0.6231884057971014 SPC 0.6142857142857143\n",
      "For  Naive Bayes  accuracy is  0.734375 TPR= 0.6811594202898551 SPC 0.618421052631579\n",
      "Breast Cancer\n",
      "For  Nearest Neighbors  accuracy is  0.9473684210526315 TPR= 0.8823529411764706 SPC 0.9836065573770492\n",
      "For  Logistic Regression  accuracy is  0.9473684210526315 TPR= 0.8823529411764706 SPC 0.9836065573770492\n",
      "For  Linear SVM  accuracy is  0.9532163742690059 TPR= 0.8970588235294118 SPC 0.9838709677419355\n",
      "For  RBF SVM  accuracy is  0.9649122807017544 TPR= 0.9852941176470589 SPC 0.9305555555555556\n",
      "For  Decision Tree  accuracy is  0.9532163742690059 TPR= 0.9117647058823529 SPC 0.96875\n",
      "For  Random Forest  accuracy is  0.9590643274853801 TPR= 0.9117647058823529 SPC 0.9841269841269841\n",
      "For  Neural Net  accuracy is  0.9473684210526315 TPR= 0.8823529411764706 SPC 0.9836065573770492\n",
      "For  AdaBoost  accuracy is  0.9473684210526315 TPR= 0.8823529411764706 SPC 0.9836065573770492\n",
      "For  Naive Bayes  accuracy is  0.9649122807017544 TPR= 0.9558823529411765 SPC 0.9558823529411765\n"
     ]
    }
   ],
   "source": [
    "for j in range(3):\n",
    "    print(data_names[j])\n",
    "    for i in list(range(len(classifiers))):\n",
    "        X_train,X_test,y_train,y_test=train_test_split(data[j],target[j],test_size=.25,random_state=42)\n",
    "        clf=classifiers[i]\n",
    "        clf.fit(X_train,y_train)\n",
    "        y_pred=clf.predict(X_test)\n",
    "        conf=confusion_matrix(y_test,y_pred)\n",
    "        TPR=conf[1][1]/(conf[1][1]+conf[1][0])\n",
    "        SPC=conf[1][1]/(conf[1][1]+conf[0][1])\n",
    "        print(\"For \",names[i],\" accuracy is \",accuracy_score(y_pred,y_test),\"TPR=\",TPR,\"SPC\",SPC)"
   ]
  },
  {
   "cell_type": "markdown",
   "metadata": {},
   "source": [
    "__Evaluating Models:__<br>\n",
    "Let us try to Evaluate the models using ROC curve<br> \n",
    "ROC curve illustrates the ability of a binary classifier system<br>\n",
    "So here we plot the TPR and FPR at various thresholds and form a curve<br>\n",
    "If the area under the curve is above .5 then our classifers works better than a random predictor<br>\n",
    "The highers the area the better<br>"
   ]
  },
  {
   "cell_type": "code",
   "execution_count": 58,
   "metadata": {},
   "outputs": [],
   "source": [
    "from sklearn.metrics import roc_curve,auc\n",
    "from sklearn import metrics\n",
    "def plot_roc(x,y,clf,name):\n",
    "    X_train,X_test,y_train,y_test=train_test_split(x,y,test_size=.25,random_state=42)\n",
    "    clf.fit(X_train,y_train.reshape(-1,1))\n",
    "    prob=clf.predict_proba(X_test)\n",
    "    fpr, tpr, thresholds = metrics.roc_curve(y_test.reshape(-1,1), prob[:,1])\n",
    "    #plt.figure()\n",
    "    plt.plot(fpr,tpr)\n",
    "    plt.plot(fpr, tpr, color='red',label='Area Under Curve %0.2f' % auc(fpr,tpr))\n",
    "    plt.plot([0,1],[0,1],color='blue',linestyle='--')\n",
    "    for i in range(len(thresholds)):\n",
    "        if thresholds[i]==0.5:\n",
    "            plt.plot(fpr[i],tpr[i],\"bo\")\n",
    "    plt.xlim([0.02,1.02])\n",
    "    plt.ylim([0.01,1.02])\n",
    "    plt.xlabel('False Positive Rate')\n",
    "    plt.ylabel('True Positive Rate')\n",
    "    plt.title(name)\n",
    "    plt.legend(loc=\"lower right\")\n",
    "    plt.show()"
   ]
  },
  {
   "cell_type": "code",
   "execution_count": 59,
   "metadata": {},
   "outputs": [
    {
     "name": "stderr",
     "output_type": "stream",
     "text": [
      "C:\\Users\\rollaball\\Miniconda3\\lib\\site-packages\\sklearn\\utils\\validation.py:578: DataConversionWarning: A column-vector y was passed when a 1d array was expected. Please change the shape of y to (n_samples, ), for example using ravel().\n",
      "  y = column_or_1d(y, warn=True)\n"
     ]
    },
    {
     "data": {
      "image/png": "[encoded data removed]",
      "text/plain": [
       "<matplotlib.figure.Figure at 0x1dabc51aeb8>"
      ]
     },
     "metadata": {},
     "output_type": "display_data"
    },
    {
     "data": {
      "image/png": "[encoded data removed]",
      "text/plain": [
       "<matplotlib.figure.Figure at 0x1dabe370470>"
      ]
     },
     "metadata": {},
     "output_type": "display_data"
    },
    {
     "data": {
      "image/png": "[encoded data removed]",
      "text/plain": [
       "<matplotlib.figure.Figure at 0x1dabcce94e0>"
      ]
     },
     "metadata": {},
     "output_type": "display_data"
    }
   ],
   "source": [
    "plot_roc(data_dia,diabetes_y,LogisticRegression(),\"Diabetes ROC Curve\")\n",
    "plot_roc(data_liver,liver_y,LogisticRegression(),\"Liver Disorder ROC Curve\")\n",
    "plot_roc(data_breast,breast_y,GaussianProcessClassifier(),\"Breast Cancer ROC Curve\")"
   ]
  },
  {
   "cell_type": "markdown",
   "metadata": {
    "scrolled": true
   },
   "source": [
    "__Deep Learning__<br>\n",
    "Now let us try to classify using a deep learning model<br>\n",
    "Our First model has a 0 hidden layer and 2 nodes output layers to Predict weather the patient suffers from the disease<br>\n",
    "While the second model has 3 Hidden layers with variable nodes<br>"
   ]
  },
  {
   "cell_type": "code",
   "execution_count": 70,
   "metadata": {},
   "outputs": [],
   "source": [
    "import tensorflow as tf\n",
    "from sklearn.preprocessing import OneHotEncoder\n",
    "def single_layer(x,y,z):\n",
    "    oenc=OneHotEncoder()\n",
    "    d=oenc.fit_transform(y.reshape(-1, 1))\n",
    "    d=np.array(d.todense())\n",
    "    X_train,X_test,y_train,y_test=train_test_split(x,d,test_size=.25,random_state=42)\n",
    "    X_tf=tf.placeholder(tf.float32,[None,x.shape[1]])\n",
    "    y_tf=tf.placeholder(tf.float32,[None,d.shape[1]])\n",
    "    W=tf.Variable(tf.zeros([x.shape[1],d.shape[1]]))\n",
    "    b=tf.Variable(tf.zeros([d.shape[1]]))\n",
    "    y_=tf.nn.softmax(tf.matmul(X_tf,W)+b)\n",
    "    cross_entropy=tf.reduce_mean(-tf.reduce_sum(y_tf * tf.log(y_), reduction_indices=[1]))\n",
    "    train_step = tf.train.GradientDescentOptimizer(0.5).minimize(cross_entropy)\n",
    "    sess = tf.InteractiveSession()\n",
    "    tf.global_variables_initializer().run()\n",
    "    for _ in range(100):\n",
    "        sess.run(train_step, feed_dict={X_tf: np.array(X_train), y_tf: y_train})\n",
    "    correct_prediction = tf.equal(tf.argmax(y_tf,1), tf.argmax(y_,1))\n",
    "    accuracy = tf.reduce_mean(tf.cast(correct_prediction, tf.float32))\n",
    "    print(z,sess.run(accuracy, feed_dict={X_tf: X_test, y_tf: y_test}))"
   ]
  },
  {
   "cell_type": "code",
   "execution_count": 102,
   "metadata": {},
   "outputs": [
    {
     "name": "stdout",
     "output_type": "stream",
     "text": [
      "Accuracy for Single layer Neural Net:\n",
      "Liver Disorder 0.3586207\n",
      "Diabetes 0.640625\n",
      "Breast Cancer 0.6023392\n"
     ]
    }
   ],
   "source": [
    "print(\"Accuracy for Single layer Neural Net:\")\n",
    "for i in range(3):\n",
    "    single_layer(data[i],target[i],data_names[i])"
   ]
  },
  {
   "cell_type": "code",
   "execution_count": 103,
   "metadata": {},
   "outputs": [],
   "source": [
    "def multi_layer(x,y,z):\n",
    "    oenc=OneHotEncoder()\n",
    "    d=oenc.fit_transform(y.reshape(-1, 1))\n",
    "    d=np.array(d.todense())\n",
    "    \n",
    "    X_train,X_test,y_train,y_test=train_test_split(x,d,test_size=.25,random_state=42)\n",
    "    \n",
    "    X_tf=tf.placeholder(tf.float32,[None,x.shape[1]])\n",
    "    y_tf=tf.placeholder(tf.float32,[None,d.shape[1]])\n",
    "    \n",
    "    l1_nodes=100\n",
    "    l2_nodes=100\n",
    "    l3_nodes=100\n",
    "    \n",
    "    hidden_layer_1={'weights':tf.Variable(tf.random_normal([x.shape[1],l1_nodes])),'bias':tf.Variable(tf.random_normal([l1_nodes]))}\n",
    "    hidden_layer_2={'weights':tf.Variable(tf.random_normal([l1_nodes,l2_nodes])),'bias':tf.Variable(tf.random_normal([l2_nodes]))}\n",
    "    hidden_layer_3={'weights':tf.Variable(tf.random_normal([l2_nodes,l3_nodes])),'bias':tf.Variable(tf.random_normal([l3_nodes]))}\n",
    "    output_layer={'weights':tf.Variable(tf.random_normal([l3_nodes,d.shape[1]])),'bias':tf.Variable(tf.random_normal([d.shape[1]]))}\n",
    "    \n",
    "    l1=tf.add(tf.matmul(X_tf,hidden_layer_1['weights']),hidden_layer_1['bias'])\n",
    "    l1=tf.nn.relu(l1)\n",
    "    l2=tf.add(tf.matmul(l1,hidden_layer_2['weights']),hidden_layer_2['bias'])\n",
    "    l2=tf.nn.relu(l2)\n",
    "    l3=tf.add(tf.matmul(l2,hidden_layer_3['weights']),hidden_layer_3['bias'])\n",
    "    l3=tf.nn.relu(l3)\n",
    "    output=tf.add(tf.matmul(l1,output_layer['weights']),output_layer['bias'])\n",
    "\n",
    "    cost=tf.reduce_mean(tf.nn.softmax_cross_entropy_with_logits(logits=output,labels=y_tf))\n",
    "    y_=tf.nn.softmax(output)\n",
    "    cross_entropy=tf.reduce_mean(-tf.reduce_sum(y_tf * tf.log(y_), reduction_indices=[1]))\n",
    "    optimizer=tf.train.AdamOptimizer().minimize(cost)\n",
    "    #optimizer=tf.train.AdamOptimizer().minimize(cost)\n",
    "    sess=tf.InteractiveSession()\n",
    "    sess.run(tf.global_variables_initializer())\n",
    "    for _ in range(1000):\n",
    "        sess.run(optimizer, feed_dict={X_tf: X_train, y_tf:y_train})\n",
    "\n",
    "    correct_prediction = tf.equal(tf.argmax(y_tf,1), tf.argmax(y_,1))\n",
    "    accuracy = tf.reduce_mean(tf.cast(correct_prediction, tf.float32))\n",
    "    print(z,sess.run(accuracy, feed_dict={X_tf: X_test, y_tf: y_test}))"
   ]
  },
  {
   "cell_type": "code",
   "execution_count": 104,
   "metadata": {},
   "outputs": [
    {
     "name": "stdout",
     "output_type": "stream",
     "text": [
      "Accuracy for multi layer neural net\n",
      "Liver Disorder 0.57931036\n",
      "Diabetes 0.6197917\n",
      "Breast Cancer 0.91812867\n"
     ]
    }
   ],
   "source": [
    "print(\"Accuracy for multi layer neural net\")\n",
    "for i in range(3):\n",
    "    multi_layer(data[i],target[i],data_names[i])"
   ]
  },
  {
   "cell_type": "code",
   "execution_count": 42,
   "metadata": {},
   "outputs": [
    {
     "data": {
      "text/plain": [
       "(768,)"
      ]
     },
     "execution_count": 42,
     "metadata": {},
     "output_type": "execute_result"
    }
   ],
   "source": []
  },
  {
   "cell_type": "code",
   "execution_count": null,
   "metadata": {},
   "outputs": [],
   "source": []
  }
 ],
 "metadata": {
  "kernelspec": {
   "display_name": "Python 3",
   "language": "python",
   "name": "python3"
  },
  "language_info": {
   "codemirror_mode": {
    "name": "ipython",
    "version": 3
   },
   "file_extension": ".py",
   "mimetype": "text/x-python",
   "name": "python",
   "nbconvert_exporter": "python",
   "pygments_lexer": "ipython3",
   "version": "3.6.4"
  }
 },
 "nbformat": 4,
 "nbformat_minor": 2
}
